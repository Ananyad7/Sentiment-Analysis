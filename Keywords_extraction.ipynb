{
 "cells": [
  {
   "cell_type": "code",
   "execution_count": 1,
   "id": "bc7fa5fb-9986-4b82-9678-75907e7539fa",
   "metadata": {},
   "outputs": [],
   "source": [
    "import pandas as pn"
   ]
  },
  {
   "cell_type": "code",
   "execution_count": 2,
   "id": "ed935bbe-7091-42f4-9f15-e589c0b5cd82",
   "metadata": {},
   "outputs": [
    {
     "data": {
      "text/plain": [
       "'C:\\\\Users\\\\ANANYA'"
      ]
     },
     "execution_count": 2,
     "metadata": {},
     "output_type": "execute_result"
    }
   ],
   "source": [
    "import os\n",
    "os.getcwd()"
   ]
  },
  {
   "cell_type": "code",
   "execution_count": 3,
   "id": "6e953e88-6493-40b4-9c92-7f0a86e7235f",
   "metadata": {},
   "outputs": [],
   "source": [
    "os.chdir(\"D:\\MY Project\\Sentiment2\")"
   ]
  },
  {
   "cell_type": "code",
   "execution_count": 4,
   "id": "3557e51a-ae6b-4328-81c4-aa02e65b38ad",
   "metadata": {},
   "outputs": [
    {
     "data": {
      "text/plain": [
       "'D:\\\\MY Project\\\\Sentiment2'"
      ]
     },
     "execution_count": 4,
     "metadata": {},
     "output_type": "execute_result"
    }
   ],
   "source": [
    "os.getcwd()"
   ]
  },
  {
   "cell_type": "code",
   "execution_count": 8,
   "id": "e59e4aa6-10a5-4841-ae84-280ce0323057",
   "metadata": {},
   "outputs": [],
   "source": [
    "data = pn.read_csv('TeePublic_review.csv', encoding='latin1')"
   ]
  },
  {
   "cell_type": "code",
   "execution_count": 9,
   "id": "f810aaa1-7f26-4e23-b984-9e38be138fa7",
   "metadata": {},
   "outputs": [
    {
     "data": {
      "text/html": [
       "<div>\n",
       "<style scoped>\n",
       "    .dataframe tbody tr th:only-of-type {\n",
       "        vertical-align: middle;\n",
       "    }\n",
       "\n",
       "    .dataframe tbody tr th {\n",
       "        vertical-align: top;\n",
       "    }\n",
       "\n",
       "    .dataframe thead th {\n",
       "        text-align: right;\n",
       "    }\n",
       "</style>\n",
       "<table border=\"1\" class=\"dataframe\">\n",
       "  <thead>\n",
       "    <tr style=\"text-align: right;\">\n",
       "      <th></th>\n",
       "      <th>reviewer_id</th>\n",
       "      <th>store_location</th>\n",
       "      <th>latitude</th>\n",
       "      <th>longitude</th>\n",
       "      <th>date</th>\n",
       "      <th>month</th>\n",
       "      <th>year</th>\n",
       "      <th>title</th>\n",
       "      <th>tweet_text</th>\n",
       "      <th>review-label</th>\n",
       "      <th>Sentiment</th>\n",
       "      <th>Score</th>\n",
       "    </tr>\n",
       "  </thead>\n",
       "  <tbody>\n",
       "    <tr>\n",
       "      <th>0</th>\n",
       "      <td>0</td>\n",
       "      <td>US</td>\n",
       "      <td>37.09024</td>\n",
       "      <td>-95.712891</td>\n",
       "      <td>2023</td>\n",
       "      <td>6</td>\n",
       "      <td>2015 00:00:00</td>\n",
       "      <td>Great help with lost order</td>\n",
       "      <td>I had an order that was lost in transit. When ...</td>\n",
       "      <td>5</td>\n",
       "      <td>negative</td>\n",
       "      <td>0.137426</td>\n",
       "    </tr>\n",
       "    <tr>\n",
       "      <th>1</th>\n",
       "      <td>1</td>\n",
       "      <td>US</td>\n",
       "      <td>37.09024</td>\n",
       "      <td>-95.712891</td>\n",
       "      <td>2023</td>\n",
       "      <td>6</td>\n",
       "      <td>2024 00:00:00</td>\n",
       "      <td>I ordered the wrong size tee and had</td>\n",
       "      <td>I ordered the wrong size tee and had difficult...</td>\n",
       "      <td>5</td>\n",
       "      <td>negative</td>\n",
       "      <td>0.436105</td>\n",
       "    </tr>\n",
       "    <tr>\n",
       "      <th>2</th>\n",
       "      <td>2</td>\n",
       "      <td>US</td>\n",
       "      <td>37.09024</td>\n",
       "      <td>-95.712891</td>\n",
       "      <td>2023</td>\n",
       "      <td>6</td>\n",
       "      <td>2017 00:00:00</td>\n",
       "      <td>These guys offer the best customer</td>\n",
       "      <td>These guys offer the best customer service in ...</td>\n",
       "      <td>5</td>\n",
       "      <td>positive</td>\n",
       "      <td>0.852810</td>\n",
       "    </tr>\n",
       "  </tbody>\n",
       "</table>\n",
       "</div>"
      ],
      "text/plain": [
       "   reviewer_id store_location  latitude  longitude  date  month  \\\n",
       "0            0             US  37.09024 -95.712891  2023      6   \n",
       "1            1             US  37.09024 -95.712891  2023      6   \n",
       "2            2             US  37.09024 -95.712891  2023      6   \n",
       "\n",
       "            year                                 title  \\\n",
       "0  2015 00:00:00            Great help with lost order   \n",
       "1  2024 00:00:00  I ordered the wrong size tee and had   \n",
       "2  2017 00:00:00    These guys offer the best customer   \n",
       "\n",
       "                                          tweet_text  review-label Sentiment  \\\n",
       "0  I had an order that was lost in transit. When ...             5  negative   \n",
       "1  I ordered the wrong size tee and had difficult...             5  negative   \n",
       "2  These guys offer the best customer service in ...             5  positive   \n",
       "\n",
       "      Score  \n",
       "0  0.137426  \n",
       "1  0.436105  \n",
       "2  0.852810  "
      ]
     },
     "execution_count": 9,
     "metadata": {},
     "output_type": "execute_result"
    }
   ],
   "source": [
    "data.head(3)"
   ]
  },
  {
   "cell_type": "code",
   "execution_count": 10,
   "id": "5a959a33-5199-4980-8716-7101fa8854bc",
   "metadata": {},
   "outputs": [
    {
     "data": {
      "text/plain": [
       "(247591, 12)"
      ]
     },
     "execution_count": 10,
     "metadata": {},
     "output_type": "execute_result"
    }
   ],
   "source": [
    "data.shape"
   ]
  },
  {
   "cell_type": "code",
   "execution_count": 13,
   "id": "3d3f5dde-2ee7-4df8-a2b6-78541e8fdc67",
   "metadata": {},
   "outputs": [
    {
     "name": "stdout",
     "output_type": "stream",
     "text": [
      "Requirement already satisfied: pandas in c:\\users\\ananya\\anaconda3\\lib\\site-packages (2.1.4)Note: you may need to restart the kernel to use updated packages.\n",
      "\n",
      "Requirement already satisfied: nltk in c:\\users\\ananya\\anaconda3\\lib\\site-packages (3.8.1)\n",
      "Requirement already satisfied: numpy<2,>=1.23.2 in c:\\users\\ananya\\anaconda3\\lib\\site-packages (from pandas) (1.26.4)\n",
      "Requirement already satisfied: python-dateutil>=2.8.2 in c:\\users\\ananya\\anaconda3\\lib\\site-packages (from pandas) (2.8.2)\n",
      "Requirement already satisfied: pytz>=2020.1 in c:\\users\\ananya\\anaconda3\\lib\\site-packages (from pandas) (2023.3.post1)\n",
      "Requirement already satisfied: tzdata>=2022.1 in c:\\users\\ananya\\anaconda3\\lib\\site-packages (from pandas) (2023.3)\n",
      "Requirement already satisfied: click in c:\\users\\ananya\\anaconda3\\lib\\site-packages (from nltk) (8.1.7)\n",
      "Requirement already satisfied: joblib in c:\\users\\ananya\\anaconda3\\lib\\site-packages (from nltk) (1.2.0)\n",
      "Requirement already satisfied: regex>=2021.8.3 in c:\\users\\ananya\\anaconda3\\lib\\site-packages (from nltk) (2023.10.3)\n",
      "Requirement already satisfied: tqdm in c:\\users\\ananya\\anaconda3\\lib\\site-packages (from nltk) (4.65.0)\n",
      "Requirement already satisfied: six>=1.5 in c:\\users\\ananya\\anaconda3\\lib\\site-packages (from python-dateutil>=2.8.2->pandas) (1.16.0)\n",
      "Requirement already satisfied: colorama in c:\\users\\ananya\\anaconda3\\lib\\site-packages (from click->nltk) (0.4.6)\n"
     ]
    }
   ],
   "source": [
    "pip install pandas nltk"
   ]
  },
  {
   "cell_type": "code",
   "execution_count": 14,
   "id": "6a5d5443-303d-4cff-843d-5d9494372956",
   "metadata": {},
   "outputs": [],
   "source": [
    "import pandas as pd\n",
    "import nltk\n",
    "from nltk.corpus import stopwords\n",
    "from nltk.tokenize import word_tokenize\n",
    "from nltk.probability import FreqDist"
   ]
  },
  {
   "cell_type": "code",
   "execution_count": 15,
   "id": "8e3e9511-d384-452d-a256-85055afb138a",
   "metadata": {},
   "outputs": [
    {
     "name": "stderr",
     "output_type": "stream",
     "text": [
      "[nltk_data] Downloading package stopwords to\n",
      "[nltk_data]     C:\\Users\\ANANYA\\AppData\\Roaming\\nltk_data...\n",
      "[nltk_data]   Unzipping corpora\\stopwords.zip.\n",
      "[nltk_data] Downloading package punkt to\n",
      "[nltk_data]     C:\\Users\\ANANYA\\AppData\\Roaming\\nltk_data...\n",
      "[nltk_data]   Unzipping tokenizers\\punkt.zip.\n"
     ]
    },
    {
     "data": {
      "text/plain": [
       "True"
      ]
     },
     "execution_count": 15,
     "metadata": {},
     "output_type": "execute_result"
    }
   ],
   "source": [
    "nltk.download('stopwords')\n",
    "nltk.download('punkt')"
   ]
  },
  {
   "cell_type": "code",
   "execution_count": 18,
   "id": "1fa95e1e-5ec1-4ce6-bc6f-9e343d888777",
   "metadata": {},
   "outputs": [],
   "source": [
    "def extract_keywords(text):\n",
    "    if isinstance(text, str):  # Check if the text is a string\n",
    "        # Tokenize the text\n",
    "        words = word_tokenize(text.lower())\n",
    "        # Remove stopwords and non-alphabetic tokens\n",
    "        words = [word for word in words if word.isalpha() and word not in stopwords.words('english')]\n",
    "        # Get frequency distribution\n",
    "        freq_dist = FreqDist(words)\n",
    "        # Get the most common keywords\n",
    "        keywords = [word for word, freq in freq_dist.most_common()]\n",
    "        return ', '.join(keywords)\n",
    "    else:\n",
    "        return '' "
   ]
  },
  {
   "cell_type": "code",
   "execution_count": 19,
   "id": "482e201e-ddc7-46fd-841d-b6caaa084bd0",
   "metadata": {},
   "outputs": [],
   "source": [
    "data['keywords'] = data['title'].apply(extract_keywords)"
   ]
  },
  {
   "cell_type": "code",
   "execution_count": 21,
   "id": "19295cdd-4e3e-4faa-8e85-5a9dcd884074",
   "metadata": {},
   "outputs": [
    {
     "data": {
      "text/html": [
       "<div>\n",
       "<style scoped>\n",
       "    .dataframe tbody tr th:only-of-type {\n",
       "        vertical-align: middle;\n",
       "    }\n",
       "\n",
       "    .dataframe tbody tr th {\n",
       "        vertical-align: top;\n",
       "    }\n",
       "\n",
       "    .dataframe thead th {\n",
       "        text-align: right;\n",
       "    }\n",
       "</style>\n",
       "<table border=\"1\" class=\"dataframe\">\n",
       "  <thead>\n",
       "    <tr style=\"text-align: right;\">\n",
       "      <th></th>\n",
       "      <th>reviewer_id</th>\n",
       "      <th>store_location</th>\n",
       "      <th>latitude</th>\n",
       "      <th>longitude</th>\n",
       "      <th>date</th>\n",
       "      <th>month</th>\n",
       "      <th>year</th>\n",
       "      <th>title</th>\n",
       "      <th>tweet_text</th>\n",
       "      <th>review-label</th>\n",
       "      <th>Sentiment</th>\n",
       "      <th>Score</th>\n",
       "      <th>keywords</th>\n",
       "    </tr>\n",
       "  </thead>\n",
       "  <tbody>\n",
       "    <tr>\n",
       "      <th>0</th>\n",
       "      <td>0</td>\n",
       "      <td>US</td>\n",
       "      <td>37.09024</td>\n",
       "      <td>-95.712891</td>\n",
       "      <td>2023</td>\n",
       "      <td>6</td>\n",
       "      <td>2015 00:00:00</td>\n",
       "      <td>Great help with lost order</td>\n",
       "      <td>I had an order that was lost in transit. When ...</td>\n",
       "      <td>5</td>\n",
       "      <td>negative</td>\n",
       "      <td>0.137426</td>\n",
       "      <td>great, help, lost, order</td>\n",
       "    </tr>\n",
       "    <tr>\n",
       "      <th>1</th>\n",
       "      <td>1</td>\n",
       "      <td>US</td>\n",
       "      <td>37.09024</td>\n",
       "      <td>-95.712891</td>\n",
       "      <td>2023</td>\n",
       "      <td>6</td>\n",
       "      <td>2024 00:00:00</td>\n",
       "      <td>I ordered the wrong size tee and had</td>\n",
       "      <td>I ordered the wrong size tee and had difficult...</td>\n",
       "      <td>5</td>\n",
       "      <td>negative</td>\n",
       "      <td>0.436105</td>\n",
       "      <td>ordered, wrong, size, tee</td>\n",
       "    </tr>\n",
       "    <tr>\n",
       "      <th>2</th>\n",
       "      <td>2</td>\n",
       "      <td>US</td>\n",
       "      <td>37.09024</td>\n",
       "      <td>-95.712891</td>\n",
       "      <td>2023</td>\n",
       "      <td>6</td>\n",
       "      <td>2017 00:00:00</td>\n",
       "      <td>These guys offer the best customer</td>\n",
       "      <td>These guys offer the best customer service in ...</td>\n",
       "      <td>5</td>\n",
       "      <td>positive</td>\n",
       "      <td>0.852810</td>\n",
       "      <td>guys, offer, best, customer</td>\n",
       "    </tr>\n",
       "  </tbody>\n",
       "</table>\n",
       "</div>"
      ],
      "text/plain": [
       "   reviewer_id store_location  latitude  longitude  date  month  \\\n",
       "0            0             US  37.09024 -95.712891  2023      6   \n",
       "1            1             US  37.09024 -95.712891  2023      6   \n",
       "2            2             US  37.09024 -95.712891  2023      6   \n",
       "\n",
       "            year                                 title  \\\n",
       "0  2015 00:00:00            Great help with lost order   \n",
       "1  2024 00:00:00  I ordered the wrong size tee and had   \n",
       "2  2017 00:00:00    These guys offer the best customer   \n",
       "\n",
       "                                          tweet_text  review-label Sentiment  \\\n",
       "0  I had an order that was lost in transit. When ...             5  negative   \n",
       "1  I ordered the wrong size tee and had difficult...             5  negative   \n",
       "2  These guys offer the best customer service in ...             5  positive   \n",
       "\n",
       "      Score                     keywords  \n",
       "0  0.137426     great, help, lost, order  \n",
       "1  0.436105    ordered, wrong, size, tee  \n",
       "2  0.852810  guys, offer, best, customer  "
      ]
     },
     "execution_count": 21,
     "metadata": {},
     "output_type": "execute_result"
    }
   ],
   "source": [
    "data.head(3)"
   ]
  },
  {
   "cell_type": "code",
   "execution_count": 23,
   "id": "1b04eefa-2702-416f-9488-1f1ee5c0eee6",
   "metadata": {},
   "outputs": [],
   "source": [
    "data.to_csv(r'D:\\MY Project\\Sentiment2\\output file\\output.csv')"
   ]
  }
 ],
 "metadata": {
  "kernelspec": {
   "display_name": "Python 3 (ipykernel)",
   "language": "python",
   "name": "python3"
  },
  "language_info": {
   "codemirror_mode": {
    "name": "ipython",
    "version": 3
   },
   "file_extension": ".py",
   "mimetype": "text/x-python",
   "name": "python",
   "nbconvert_exporter": "python",
   "pygments_lexer": "ipython3",
   "version": "3.11.7"
  }
 },
 "nbformat": 4,
 "nbformat_minor": 5
}
